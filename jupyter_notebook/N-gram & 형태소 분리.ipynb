{
 "cells": [
  {
   "cell_type": "code",
   "execution_count": null,
   "metadata": {
    "colab": {
     "base_uri": "https://localhost:8080/",
     "height": 328
    },
    "executionInfo": {
     "elapsed": 23632,
     "status": "ok",
     "timestamp": 1713750608124,
     "user": {
      "displayName": "박장훈",
      "userId": "09031392609521424808"
     },
     "user_tz": -540
    },
    "id": "Ff5hxfSuANoF",
    "outputId": "41521ccf-5593-4be7-8b53-98ed87a25cd7"
   },
   "outputs": [
    {
     "name": "stdout",
     "output_type": "stream",
     "text": [
      "Mounted at /content/gdrive/\n"
     ]
    },
    {
     "data": {
      "application/vnd.google.colaboratory.intrinsic+json": {
       "summary": "{\n  \"name\": \"df\",\n  \"rows\": 333,\n  \"fields\": [\n    {\n      \"column\": \"\\ub2f4\\ub2f9\\uc790\",\n      \"properties\": {\n        \"dtype\": \"category\",\n        \"num_unique_values\": 5,\n        \"samples\": [\n          \"\\uc1a1\\uc5f0\\uc815\",\n          \"\\uc815\\uc758\\uc11d\",\n          \"\\uc591\\uc218\\ube48\"\n        ],\n        \"semantic_type\": \"\",\n        \"description\": \"\"\n      }\n    },\n    {\n      \"column\": \"\\ubd80\\uc704\",\n      \"properties\": {\n        \"dtype\": \"category\",\n        \"num_unique_values\": 12,\n        \"samples\": [\n          \"\\uc804\\uc2e0\",\n          \"\\uac00\\uc2b4/\\ub4f1\",\n          \"\\ubcf5\\ubd80\"\n        ],\n        \"semantic_type\": \"\",\n        \"description\": \"\"\n      }\n    },\n    {\n      \"column\": \"\\uc99d\\uc0c1\",\n      \"properties\": {\n        \"dtype\": \"string\",\n        \"num_unique_values\": 325,\n        \"samples\": [\n          \" \\ub09c\\uccad\\uc774 \\uc0dd\\uae30\\uba74 \\uc77c\\uc0c1\\uc0dd\\ud65c \\uc18d\\uc5d0\\uc11c \\uc8fc\\ubcc0 \\uc18c\\ub9ac\\uac00 \\uba39\\uba39\\ud558\\uac8c \\ub4e4\\ub9ac\\uace0 \\ubd84\\ubcc4\\uc774 \\uc798 \\ub418\\uc9c0 \\uc54a\\uc73c\\uba70, \\ud2b9\\ud788 \\uc0ac\\ub78c\\uc774 \\ub9ce\\uc740 \\ud63c\\uc7a1\\ud55c \\ud658\\uacbd\\uc5d0\\uc11c \\ub300\\ud654\\uc5d0 \\uc9c0\\uc7a5\\uc774 \\uc0dd\\uae41\\ub2c8\\ub2e4. \\uc77c\\ubd80\\ub294 \\uc5b4\\uc9c0\\ub7ec\\uc6c0, \\uc774\\uba85, \\uadc0 \\ubd84\\ube44\\ubb3c \\ub4f1\\uc758 \\uc99d\\uc0c1\\uc774 \\ub3d9\\ubc18\\ub418\\uae30\\ub3c4 \\ud569\\ub2c8\\ub2e4.\",\n          \"\\ud5c8\\ub9ac \\ud1b5\\uc99d\\uc744 \\ub290\\ub07c\\uba74\\uc11c \\ub2e4\\ub9ac\\uae4c\\uc9c0 \\uc800\\ub9ac\\uace0 \\uc544\\ud504\\uae30 \\ub54c\\ubb38\\uc5d0 \\ub514\\uc2a4\\ud06c\\ub85c \\uc624\\uc778\\ud558\\uae30 \\uc26c\\uc6c0. \\uc624\\ub798 \\uc11c \\uc788\\uac70\\ub098 \\uac78\\uc73c\\uba74 \\ub2e4\\ub9ac \\ud55c\\ucabd \\ub610\\ub294 \\uc591\\ucabd\\uc5d0 \\ud1b5\\uc99d\\uc774 \\ubc1c\\uc0dd.\\n\\ub2e4\\ub9ac \\uc804\\uccb4\\uac00 \\ud130\\uc9c8 \\uac83\\uac19\\uc774 \\uc544\\ud504\\uac70\\ub098 \\uc800\\ub824\\uc11c \\uc7a0\\uc2dc \\uc549\\uc544\\uc11c \\uc26c\\uc5b4\\uc57c \\ud568. \\uac78\\uc73c\\uba74 \\ub2e4\\uc2dc \\uac19\\uc740 \\uc99d\\uc0c1\\uc774 \\ub098\\ud0c0\\ub098 \\uac00\\ub2e4 \\uc26c\\uae30\\ub97c \\ubc18\\ubcf5.\\n\\uc758\\ud559\\uc6a9\\uc5b4\\ub85c\\ub294 \\u2018\\uc2e0\\uacbd\\uc131 \\uac04\\ud5d0\\uc801 \\ud30c\\ud589\\u2019\\n\\ud611\\ucc29\\uc99d\\uc774 \\uc2ec\\ud574\\uc9c0\\uba74 \\uac78\\uc744 \\uc218 \\uc788\\ub294 \\uc2dc\\uac04\\uc774 \\uc810\\uc810 \\uc9e7\\uc544\\uc9d0. \\ub098\\uc911\\uc5d0\\ub294 \\uc11c\\uae30\\ub9cc \\ud574\\ub3c4 \\uc544\\ud30c\\uc11c \\uc8fc\\uc800\\uc549\\uac8c \\ub420 \\uc815\\ub3c4\\ub85c \\uace0\\ud1b5\\uc774 \\ucee4\\uc9d0.\\n\\ub2e4\\ub9ac\\uc758 \\uac10\\uac01 \\ub9c8\\ube44\\ub97c \\ud638\\uc18c\\ud568. \\ub2e4\\ub9ac\\uc5d0 \\ud798\\uc774 \\ud480\\ub824 \\uc8fc\\uc800\\uc549\\uac8c \\ub428.\\n\\uc549\\uc544\\uc11c \\uc26c\\uac70\\ub098 \\ub204\\uc6b0\\uba74 \\ud5c8\\ub9ac\\uac00 \\uc55e\\uc73c\\ub85c \\ud718\\uba74\\uc11c \\uc2e0\\uacbd \\uad6c\\uba4d\\uc774 \\uc0b4\\uc9dd \\ub113\\uc5b4\\uc9c0\\uae30 \\ub54c\\ubb38\\uc5d0 \\ud1b5\\uc99d\\uc774 \\uc644\\ud654\\ub418\\uac70\\ub098 \\uc5c6\\uc5b4\\uc9d0.\",\n          \"\\uc190, \\ubc1c, \\ub208\\uc758 \\ud770\\uc790, \\uc785\\uc220, \\ud600 \\ub4f1\\uc744 \\uce68\\ubc94\\n\\uace0\\uc5f4, \\uacbd\\ubd80 \\uc784\\ud30c\\uc120 \\ube44\\ub300\\uac00 \\ud2b9\\uc9d5\\n\\ucc98\\uc74c\\uc5d0\\ub294 \\uc5f4\\uac10\\uae30\\ub85c \\uc0dd\\uac01\\ub420 \\uc218 \\uc788\\uc9c0\\ub9cc \\n\\uc18c\\uc544\\uc5d0\\uc11c 5\\uc77c\\uc774\\uc0c1 \\uc5f4\\uc774 \\uc9c0\\uc18d\\ub418\\uba74\\uc11c \\n\\uc6d0\\uc778\\uc774 \\ub69c\\ub837\\ud558\\uc9c0 \\uc54a\\ub294 \\uacbd\\uc6b0\\ub77c\\uba74 \\uc758\\uc2ec\"\n        ],\n        \"semantic_type\": \"\",\n        \"description\": \"\"\n      }\n    },\n    {\n      \"column\": \"\\uc9c8\\ud658\\uba85\",\n      \"properties\": {\n        \"dtype\": \"string\",\n        \"num_unique_values\": 328,\n        \"samples\": [\n          \"\\uc0bc\\ucc28\\uc2e0\\uacbd\\ud1b5 [Trigeminal neuralgia]\",\n          \"\\ucc99\\ucd94\\uad00\\ud611\\ucc29\\uc99d Spinal stenosis\",\n          \"\\uad6c\\uc21c\\uad6c\\uac1c\\uc5f4 [Cleft lip & palate]\"\n        ],\n        \"semantic_type\": \"\",\n        \"description\": \"\"\n      }\n    },\n    {\n      \"column\": \"\\uc9c4\\ub8cc\\uacfc\",\n      \"properties\": {\n        \"dtype\": \"string\",\n        \"num_unique_values\": 201,\n        \"samples\": [\n          \"\\ub9c8\\ucde8\\ud1b5\\uc99d\\uc758\\ud559\\uacfc, \\uc2e0\\uacbd\\uacfc, \\ub0b4\\ubd84\\ube44\\ub0b4\\uacfc, \\ub2f9\\ub1e8\\ubcd1\\uc13c\\ud130, \",\n          \"\\uc554\\uc608\\ubc29\\uc13c\\ud130, \\uc554\\ubcd1\\uc6d0\",\n          \"\\uac10\\uc5fc\\ub0b4\\uacfc , \\uc18c\\uc544\\uccad\\uc18c\\ub144\\uacfc , \\uc18c\\ud654\\uae30\\ub0b4\\uacfc\"\n        ],\n        \"semantic_type\": \"\",\n        \"description\": \"\"\n      }\n    },\n    {\n      \"column\": \"TAG\",\n      \"properties\": {\n        \"dtype\": \"string\",\n        \"num_unique_values\": 323,\n        \"samples\": [\n          \"\\uc67c\\ucabd \\ub2e4\\ub9ac \\ubd80\\uc885,  \\uc67c\\ucabd \\ub2e4\\ub9ac \\ud1b5\\uc99d,  \\ud53c\\ubd80 \\uada4\\uc591,  \\ud558\\uc9c0\\uc815\\ub9e5\\ub958, \\uc2ec\\ubd80\\uc815\\ub9e5\\ud608\\uc804\\uc99d,  \\ud608\\uc804,  \\ud608\\uc804\\uc6a9\\ud574\\uc220,  \\uc2a4\\ud150\\ud2b8,  IVC\",\n          \"\\ud654\\uc0c1,  \\ud0d0,  \\ud654\\uc7ac,  \\ud654\\uc0c1\\uc751\\uae09\\ucc98\\uce58,  \\ud654\\uc0c1\\uce58\\ub8cc,  \\uc790\\uc678\\uc120 \\ud53c\\ubd80,  \\ud654\\uc0c1\\uc5f0\\uace0,  \\ud654\\uc0c1\\uce58\\ub8cc,  \\ubb3c\\uc9d1\",\n          \"\\uc2ec\\uc7a5, \\uc2ec\\uc7a5\\uc9c8\\ud658, \\ud608\\uad00\\uc9c8\\ud658, \\ub1cc\\uacbd\\uc0c9, \\ub09c\\uc6d0\\uacf5, foramen ovale\"\n        ],\n        \"semantic_type\": \"\",\n        \"description\": \"\"\n      }\n    }\n  ]\n}",
       "type": "dataframe",
       "variable_name": "df"
      },
      "text/html": [
       "\n",
       "  <div id=\"df-1002b4d5-ebff-42cc-a621-131c0fb356e0\" class=\"colab-df-container\">\n",
       "    <div>\n",
       "<style scoped>\n",
       "    .dataframe tbody tr th:only-of-type {\n",
       "        vertical-align: middle;\n",
       "    }\n",
       "\n",
       "    .dataframe tbody tr th {\n",
       "        vertical-align: top;\n",
       "    }\n",
       "\n",
       "    .dataframe thead th {\n",
       "        text-align: right;\n",
       "    }\n",
       "</style>\n",
       "<table border=\"1\" class=\"dataframe\">\n",
       "  <thead>\n",
       "    <tr style=\"text-align: right;\">\n",
       "      <th></th>\n",
       "      <th>담당자</th>\n",
       "      <th>부위</th>\n",
       "      <th>증상</th>\n",
       "      <th>질환명</th>\n",
       "      <th>진료과</th>\n",
       "      <th>TAG</th>\n",
       "    </tr>\n",
       "  </thead>\n",
       "  <tbody>\n",
       "    <tr>\n",
       "      <th>0</th>\n",
       "      <td>박장훈</td>\n",
       "      <td>복부</td>\n",
       "      <td>신생아의 98%는 출생 후 24시간 내에 짙은 녹색의 태변을 배설합니다. 아기의 항...</td>\n",
       "      <td>선천성 거대결장증</td>\n",
       "      <td>소아외과</td>\n",
       "      <td>히르쉬스프룽병 ,선청성대장질환 ,거대결장 ,대장조영술검사</td>\n",
       "    </tr>\n",
       "    <tr>\n",
       "      <th>1</th>\n",
       "      <td>박장훈</td>\n",
       "      <td>복부</td>\n",
       "      <td>간에서 만들어진 담즙은 담도를 통해 소장으로 분비돼 소화를 돕는 데 사용됩니다. 그...</td>\n",
       "      <td>담도폐쇄증</td>\n",
       "      <td>소화기내과, 간담췌외과, 소아외과</td>\n",
       "      <td>담도, 담도폐쇄증 ,billiary atresia ,간경변증 ,간이식 ,담도조영술 ...</td>\n",
       "    </tr>\n",
       "    <tr>\n",
       "      <th>2</th>\n",
       "      <td>박장훈</td>\n",
       "      <td>복부</td>\n",
       "      <td>조기 간암의 증상으로 피로감, 전신 쇠약감, 소화 불량, 상복부에 느껴지는 뻐근함,...</td>\n",
       "      <td>간암</td>\n",
       "      <td>간담췌외과, 방사선종양학과, 혈액종양내과, 소화기내과, 간암센터</td>\n",
       "      <td>피로감,  구토  ,복통  ,황달  ,메스꺼움  ,식욕부진  ,체중감소  ,AFP ...</td>\n",
       "    </tr>\n",
       "    <tr>\n",
       "      <th>3</th>\n",
       "      <td>박장훈</td>\n",
       "      <td>복부</td>\n",
       "      <td>대표적인 증상으로는 복통, 설사, 체중 감소를 들 수 있습니다. 특히 10~20대 ...</td>\n",
       "      <td>크론병 Crohn disease</td>\n",
       "      <td>소화기내과, 소아소화기영양과</td>\n",
       "      <td>복통  ,설사  ,식욕부진  ,체중감소  ,치루  ,장폐색 국소성 장염  ,궤양성 ...</td>\n",
       "    </tr>\n",
       "    <tr>\n",
       "      <th>4</th>\n",
       "      <td>박장훈</td>\n",
       "      <td>복부</td>\n",
       "      <td>비만은 체내 근육량에 비해 지방조직이 과다한 상태를 의미합니다. 대한비만학회에서는 ...</td>\n",
       "      <td>고도비만 Severe obesity</td>\n",
       "      <td>내분비내과, 가정의학과, 내분비당뇨병센터, 비만대사수술센터</td>\n",
       "      <td>빈혈, 속 쓰림  ,오심,  구토  ,복통  ,체중감소 ,위암개복수술 ,위암합병증 ...</td>\n",
       "    </tr>\n",
       "  </tbody>\n",
       "</table>\n",
       "</div>\n",
       "    <div class=\"colab-df-buttons\">\n",
       "\n",
       "  <div class=\"colab-df-container\">\n",
       "    <button class=\"colab-df-convert\" onclick=\"convertToInteractive('df-1002b4d5-ebff-42cc-a621-131c0fb356e0')\"\n",
       "            title=\"Convert this dataframe to an interactive table.\"\n",
       "            style=\"display:none;\">\n",
       "\n",
       "  <svg xmlns=\"http://www.w3.org/2000/svg\" height=\"24px\" viewBox=\"0 -960 960 960\">\n",
       "    <path d=\"M120-120v-720h720v720H120Zm60-500h600v-160H180v160Zm220 220h160v-160H400v160Zm0 220h160v-160H400v160ZM180-400h160v-160H180v160Zm440 0h160v-160H620v160ZM180-180h160v-160H180v160Zm440 0h160v-160H620v160Z\"/>\n",
       "  </svg>\n",
       "    </button>\n",
       "\n",
       "  <style>\n",
       "    .colab-df-container {\n",
       "      display:flex;\n",
       "      gap: 12px;\n",
       "    }\n",
       "\n",
       "    .colab-df-convert {\n",
       "      background-color: #E8F0FE;\n",
       "      border: none;\n",
       "      border-radius: 50%;\n",
       "      cursor: pointer;\n",
       "      display: none;\n",
       "      fill: #1967D2;\n",
       "      height: 32px;\n",
       "      padding: 0 0 0 0;\n",
       "      width: 32px;\n",
       "    }\n",
       "\n",
       "    .colab-df-convert:hover {\n",
       "      background-color: #E2EBFA;\n",
       "      box-shadow: 0px 1px 2px rgba(60, 64, 67, 0.3), 0px 1px 3px 1px rgba(60, 64, 67, 0.15);\n",
       "      fill: #174EA6;\n",
       "    }\n",
       "\n",
       "    .colab-df-buttons div {\n",
       "      margin-bottom: 4px;\n",
       "    }\n",
       "\n",
       "    [theme=dark] .colab-df-convert {\n",
       "      background-color: #3B4455;\n",
       "      fill: #D2E3FC;\n",
       "    }\n",
       "\n",
       "    [theme=dark] .colab-df-convert:hover {\n",
       "      background-color: #434B5C;\n",
       "      box-shadow: 0px 1px 3px 1px rgba(0, 0, 0, 0.15);\n",
       "      filter: drop-shadow(0px 1px 2px rgba(0, 0, 0, 0.3));\n",
       "      fill: #FFFFFF;\n",
       "    }\n",
       "  </style>\n",
       "\n",
       "    <script>\n",
       "      const buttonEl =\n",
       "        document.querySelector('#df-1002b4d5-ebff-42cc-a621-131c0fb356e0 button.colab-df-convert');\n",
       "      buttonEl.style.display =\n",
       "        google.colab.kernel.accessAllowed ? 'block' : 'none';\n",
       "\n",
       "      async function convertToInteractive(key) {\n",
       "        const element = document.querySelector('#df-1002b4d5-ebff-42cc-a621-131c0fb356e0');\n",
       "        const dataTable =\n",
       "          await google.colab.kernel.invokeFunction('convertToInteractive',\n",
       "                                                    [key], {});\n",
       "        if (!dataTable) return;\n",
       "\n",
       "        const docLinkHtml = 'Like what you see? Visit the ' +\n",
       "          '<a target=\"_blank\" href=https://colab.research.google.com/notebooks/data_table.ipynb>data table notebook</a>'\n",
       "          + ' to learn more about interactive tables.';\n",
       "        element.innerHTML = '';\n",
       "        dataTable['output_type'] = 'display_data';\n",
       "        await google.colab.output.renderOutput(dataTable, element);\n",
       "        const docLink = document.createElement('div');\n",
       "        docLink.innerHTML = docLinkHtml;\n",
       "        element.appendChild(docLink);\n",
       "      }\n",
       "    </script>\n",
       "  </div>\n",
       "\n",
       "\n",
       "<div id=\"df-06a59cbf-0c1b-4500-a85e-47dde6adbae1\">\n",
       "  <button class=\"colab-df-quickchart\" onclick=\"quickchart('df-06a59cbf-0c1b-4500-a85e-47dde6adbae1')\"\n",
       "            title=\"Suggest charts\"\n",
       "            style=\"display:none;\">\n",
       "\n",
       "<svg xmlns=\"http://www.w3.org/2000/svg\" height=\"24px\"viewBox=\"0 0 24 24\"\n",
       "     width=\"24px\">\n",
       "    <g>\n",
       "        <path d=\"M19 3H5c-1.1 0-2 .9-2 2v14c0 1.1.9 2 2 2h14c1.1 0 2-.9 2-2V5c0-1.1-.9-2-2-2zM9 17H7v-7h2v7zm4 0h-2V7h2v10zm4 0h-2v-4h2v4z\"/>\n",
       "    </g>\n",
       "</svg>\n",
       "  </button>\n",
       "\n",
       "<style>\n",
       "  .colab-df-quickchart {\n",
       "      --bg-color: #E8F0FE;\n",
       "      --fill-color: #1967D2;\n",
       "      --hover-bg-color: #E2EBFA;\n",
       "      --hover-fill-color: #174EA6;\n",
       "      --disabled-fill-color: #AAA;\n",
       "      --disabled-bg-color: #DDD;\n",
       "  }\n",
       "\n",
       "  [theme=dark] .colab-df-quickchart {\n",
       "      --bg-color: #3B4455;\n",
       "      --fill-color: #D2E3FC;\n",
       "      --hover-bg-color: #434B5C;\n",
       "      --hover-fill-color: #FFFFFF;\n",
       "      --disabled-bg-color: #3B4455;\n",
       "      --disabled-fill-color: #666;\n",
       "  }\n",
       "\n",
       "  .colab-df-quickchart {\n",
       "    background-color: var(--bg-color);\n",
       "    border: none;\n",
       "    border-radius: 50%;\n",
       "    cursor: pointer;\n",
       "    display: none;\n",
       "    fill: var(--fill-color);\n",
       "    height: 32px;\n",
       "    padding: 0;\n",
       "    width: 32px;\n",
       "  }\n",
       "\n",
       "  .colab-df-quickchart:hover {\n",
       "    background-color: var(--hover-bg-color);\n",
       "    box-shadow: 0 1px 2px rgba(60, 64, 67, 0.3), 0 1px 3px 1px rgba(60, 64, 67, 0.15);\n",
       "    fill: var(--button-hover-fill-color);\n",
       "  }\n",
       "\n",
       "  .colab-df-quickchart-complete:disabled,\n",
       "  .colab-df-quickchart-complete:disabled:hover {\n",
       "    background-color: var(--disabled-bg-color);\n",
       "    fill: var(--disabled-fill-color);\n",
       "    box-shadow: none;\n",
       "  }\n",
       "\n",
       "  .colab-df-spinner {\n",
       "    border: 2px solid var(--fill-color);\n",
       "    border-color: transparent;\n",
       "    border-bottom-color: var(--fill-color);\n",
       "    animation:\n",
       "      spin 1s steps(1) infinite;\n",
       "  }\n",
       "\n",
       "  @keyframes spin {\n",
       "    0% {\n",
       "      border-color: transparent;\n",
       "      border-bottom-color: var(--fill-color);\n",
       "      border-left-color: var(--fill-color);\n",
       "    }\n",
       "    20% {\n",
       "      border-color: transparent;\n",
       "      border-left-color: var(--fill-color);\n",
       "      border-top-color: var(--fill-color);\n",
       "    }\n",
       "    30% {\n",
       "      border-color: transparent;\n",
       "      border-left-color: var(--fill-color);\n",
       "      border-top-color: var(--fill-color);\n",
       "      border-right-color: var(--fill-color);\n",
       "    }\n",
       "    40% {\n",
       "      border-color: transparent;\n",
       "      border-right-color: var(--fill-color);\n",
       "      border-top-color: var(--fill-color);\n",
       "    }\n",
       "    60% {\n",
       "      border-color: transparent;\n",
       "      border-right-color: var(--fill-color);\n",
       "    }\n",
       "    80% {\n",
       "      border-color: transparent;\n",
       "      border-right-color: var(--fill-color);\n",
       "      border-bottom-color: var(--fill-color);\n",
       "    }\n",
       "    90% {\n",
       "      border-color: transparent;\n",
       "      border-bottom-color: var(--fill-color);\n",
       "    }\n",
       "  }\n",
       "</style>\n",
       "\n",
       "  <script>\n",
       "    async function quickchart(key) {\n",
       "      const quickchartButtonEl =\n",
       "        document.querySelector('#' + key + ' button');\n",
       "      quickchartButtonEl.disabled = true;  // To prevent multiple clicks.\n",
       "      quickchartButtonEl.classList.add('colab-df-spinner');\n",
       "      try {\n",
       "        const charts = await google.colab.kernel.invokeFunction(\n",
       "            'suggestCharts', [key], {});\n",
       "      } catch (error) {\n",
       "        console.error('Error during call to suggestCharts:', error);\n",
       "      }\n",
       "      quickchartButtonEl.classList.remove('colab-df-spinner');\n",
       "      quickchartButtonEl.classList.add('colab-df-quickchart-complete');\n",
       "    }\n",
       "    (() => {\n",
       "      let quickchartButtonEl =\n",
       "        document.querySelector('#df-06a59cbf-0c1b-4500-a85e-47dde6adbae1 button');\n",
       "      quickchartButtonEl.style.display =\n",
       "        google.colab.kernel.accessAllowed ? 'block' : 'none';\n",
       "    })();\n",
       "  </script>\n",
       "</div>\n",
       "\n",
       "    </div>\n",
       "  </div>\n"
      ],
      "text/plain": [
       "   담당자  부위                                                 증상  \\\n",
       "0  박장훈  복부  신생아의 98%는 출생 후 24시간 내에 짙은 녹색의 태변을 배설합니다. 아기의 항...   \n",
       "1  박장훈  복부  간에서 만들어진 담즙은 담도를 통해 소장으로 분비돼 소화를 돕는 데 사용됩니다. 그...   \n",
       "2  박장훈  복부  조기 간암의 증상으로 피로감, 전신 쇠약감, 소화 불량, 상복부에 느껴지는 뻐근함,...   \n",
       "3  박장훈  복부  대표적인 증상으로는 복통, 설사, 체중 감소를 들 수 있습니다. 특히 10~20대 ...   \n",
       "4  박장훈  복부  비만은 체내 근육량에 비해 지방조직이 과다한 상태를 의미합니다. 대한비만학회에서는 ...   \n",
       "\n",
       "                   질환명                                  진료과  \\\n",
       "0            선천성 거대결장증                                 소아외과   \n",
       "1                담도폐쇄증                   소화기내과, 간담췌외과, 소아외과   \n",
       "2                   간암  간담췌외과, 방사선종양학과, 혈액종양내과, 소화기내과, 간암센터   \n",
       "3    크론병 Crohn disease                      소화기내과, 소아소화기영양과   \n",
       "4  고도비만 Severe obesity     내분비내과, 가정의학과, 내분비당뇨병센터, 비만대사수술센터   \n",
       "\n",
       "                                                 TAG  \n",
       "0                    히르쉬스프룽병 ,선청성대장질환 ,거대결장 ,대장조영술검사  \n",
       "1  담도, 담도폐쇄증 ,billiary atresia ,간경변증 ,간이식 ,담도조영술 ...  \n",
       "2  피로감,  구토  ,복통  ,황달  ,메스꺼움  ,식욕부진  ,체중감소  ,AFP ...  \n",
       "3  복통  ,설사  ,식욕부진  ,체중감소  ,치루  ,장폐색 국소성 장염  ,궤양성 ...  \n",
       "4  빈혈, 속 쓰림  ,오심,  구토  ,복통  ,체중감소 ,위암개복수술 ,위암합병증 ...  "
      ]
     },
     "execution_count": 1,
     "metadata": {},
     "output_type": "execute_result"
    }
   ],
   "source": [
    "# from konlpy.tag import Mecab\n",
    "from tqdm import tqdm\n",
    "import re\n",
    "import pickle\n",
    "import csv\n",
    "import pandas as pd\n",
    "import numpy as np\n",
    "from google.colab import drive\n",
    "\n",
    "drive.mount('/content/gdrive/')\n",
    "\n",
    "# 병명증상정보.csv : \"병명/증상 정보 data\"를 csv로 변환한 파일\n",
    "df = pd.read_csv(\"/content/gdrive/MyDrive/멀티캠퍼스_DS_DE_33/2nd_pjt/병명증상정보.csv\", encoding='cp949')\n",
    "df.head()"
   ]
  },
  {
   "cell_type": "code",
   "execution_count": null,
   "metadata": {
    "id": "g19ul6zBBWrZ"
   },
   "outputs": [],
   "source": [
    "# from google.colab import drive\n",
    "# drive.mount('/content/drive')"
   ]
  },
  {
   "cell_type": "code",
   "execution_count": null,
   "metadata": {
    "colab": {
     "base_uri": "https://localhost:8080/"
    },
    "executionInfo": {
     "elapsed": 8271,
     "status": "ok",
     "timestamp": 1713750616390,
     "user": {
      "displayName": "박장훈",
      "userId": "09031392609521424808"
     },
     "user_tz": -540
    },
    "id": "fsusPmm3_uLY",
    "outputId": "3d585da5-0f7f-413a-ba48-534180865793"
   },
   "outputs": [
    {
     "name": "stdout",
     "output_type": "stream",
     "text": [
      "Collecting soynlp\n",
      "  Downloading soynlp-0.0.493-py3-none-any.whl (416 kB)\n",
      "\u001b[2K     \u001b[90m━━━━━━━━━━━━━━━━━━━━━━━━━━━━━━━━━━━━━━━━\u001b[0m \u001b[32m416.8/416.8 kB\u001b[0m \u001b[31m3.1 MB/s\u001b[0m eta \u001b[36m0:00:00\u001b[0m\n",
      "\u001b[?25hRequirement already satisfied: numpy>=1.12.1 in /usr/local/lib/python3.10/dist-packages (from soynlp) (1.25.2)\n",
      "Requirement already satisfied: psutil>=5.0.1 in /usr/local/lib/python3.10/dist-packages (from soynlp) (5.9.5)\n",
      "Requirement already satisfied: scipy>=1.1.0 in /usr/local/lib/python3.10/dist-packages (from soynlp) (1.11.4)\n",
      "Requirement already satisfied: scikit-learn>=0.20.0 in /usr/local/lib/python3.10/dist-packages (from soynlp) (1.2.2)\n",
      "Requirement already satisfied: joblib>=1.1.1 in /usr/local/lib/python3.10/dist-packages (from scikit-learn>=0.20.0->soynlp) (1.4.0)\n",
      "Requirement already satisfied: threadpoolctl>=2.0.0 in /usr/local/lib/python3.10/dist-packages (from scikit-learn>=0.20.0->soynlp) (3.4.0)\n",
      "Installing collected packages: soynlp\n",
      "Successfully installed soynlp-0.0.493\n"
     ]
    }
   ],
   "source": [
    "pip install soynlp"
   ]
  },
  {
   "cell_type": "code",
   "execution_count": null,
   "metadata": {
    "colab": {
     "base_uri": "https://localhost:8080/"
    },
    "executionInfo": {
     "elapsed": 79785,
     "status": "ok",
     "timestamp": 1713750696169,
     "user": {
      "displayName": "박장훈",
      "userId": "09031392609521424808"
     },
     "user_tz": -540
    },
    "id": "hIAlrtTt-e1O",
    "outputId": "6dc7f1b4-2f0e-417e-c2cf-523d6e7bc875"
   },
   "outputs": [
    {
     "name": "stdout",
     "output_type": "stream",
     "text": [
      "training was done. used memory 0.867 Gb\n",
      "all cohesion probabilities was computed. # words = 223348\n",
      "all branching entropies was computed # words = 361598\n",
      "all accessor variety was computed # words = 361598\n"
     ]
    }
   ],
   "source": [
    "# soynlp을 이용하여 학습 이후, 응집도를 계산 해보자\n",
    "\n",
    "import urllib.request\n",
    "from soynlp import DoublespaceLineCorpus\n",
    "from soynlp.word import WordExtractor\n",
    "\n",
    "urllib.request.urlretrieve(\"https://raw.githubusercontent.com/lovit/soynlp/master/tutorials/2016-10-20.txt\", filename=\"2016-10-20.txt\")\n",
    "\n",
    "# 훈련 데이터를 다수의 문서로 분리\n",
    "corpus = DoublespaceLineCorpus(\"2016-10-20.txt\")\n",
    "\n",
    "word_extractor = WordExtractor()\n",
    "word_extractor.train(corpus)\n",
    "word_score_table = word_extractor.extract()"
   ]
  },
  {
   "cell_type": "code",
   "execution_count": null,
   "metadata": {
    "id": "BCYHHYPcAIKf"
   },
   "outputs": [],
   "source": [
    "# n-gram 어휘 벡터 생성\n",
    "def getNgramWord(N,txt):\n",
    "    txt = txt.split()\n",
    "    ngrams = [txt[i:i+N] for i in range(len(txt)-N+1)]\n",
    "    return ngrams"
   ]
  },
  {
   "cell_type": "code",
   "execution_count": null,
   "metadata": {
    "colab": {
     "base_uri": "https://localhost:8080/",
     "height": 219
    },
    "executionInfo": {
     "elapsed": 12,
     "status": "error",
     "timestamp": 1713750696170,
     "user": {
      "displayName": "박장훈",
      "userId": "09031392609521424808"
     },
     "user_tz": -540
    },
    "id": "bqhIV6LN-zcY",
    "outputId": "aa7fa792-93e4-4d47-fdc0-f79e04edf985"
   },
   "outputs": [
    {
     "ename": "KeyError",
     "evalue": "'신생아의'",
     "output_type": "error",
     "traceback": [
      "\u001b[0;31m---------------------------------------------------------------------------\u001b[0m",
      "\u001b[0;31mKeyError\u001b[0m                                  Traceback (most recent call last)",
      "\u001b[0;32m<ipython-input-6-d889dfebf5ee>\u001b[0m in \u001b[0;36m<cell line: 3>\u001b[0;34m()\u001b[0m\n\u001b[1;32m     10\u001b[0m     \u001b[0;32mfor\u001b[0m \u001b[0mngramwords\u001b[0m \u001b[0;32min\u001b[0m \u001b[0mgetNgramWord\u001b[0m\u001b[0;34m(\u001b[0m\u001b[0mj\u001b[0m\u001b[0;34m,\u001b[0m\u001b[0mi\u001b[0m\u001b[0;34m)\u001b[0m\u001b[0;34m:\u001b[0m\u001b[0;34m\u001b[0m\u001b[0;34m\u001b[0m\u001b[0m\n\u001b[1;32m     11\u001b[0m       \u001b[0;32mfor\u001b[0m \u001b[0mword\u001b[0m \u001b[0;32min\u001b[0m \u001b[0mngramwords\u001b[0m\u001b[0;34m:\u001b[0m\u001b[0;34m\u001b[0m\u001b[0;34m\u001b[0m\u001b[0m\n\u001b[0;32m---> 12\u001b[0;31m         \u001b[0mprint\u001b[0m\u001b[0;34m(\u001b[0m\u001b[0mword_score_table\u001b[0m\u001b[0;34m[\u001b[0m\u001b[0mword\u001b[0m\u001b[0;34m]\u001b[0m\u001b[0;34m.\u001b[0m\u001b[0mcohesion_forward\u001b[0m\u001b[0;34m)\u001b[0m\u001b[0;34m\u001b[0m\u001b[0;34m\u001b[0m\u001b[0m\n\u001b[0m\u001b[1;32m     13\u001b[0m     \u001b[0;32melse\u001b[0m\u001b[0;34m:\u001b[0m\u001b[0;34m\u001b[0m\u001b[0;34m\u001b[0m\u001b[0m\n\u001b[1;32m     14\u001b[0m       \u001b[0mque\u001b[0m\u001b[0;34m.\u001b[0m\u001b[0msort\u001b[0m\u001b[0;34m(\u001b[0m\u001b[0mkey\u001b[0m\u001b[0;34m=\u001b[0m\u001b[0;32mlambda\u001b[0m \u001b[0mx\u001b[0m \u001b[0;34m:\u001b[0m \u001b[0mx\u001b[0m\u001b[0;34m[\u001b[0m\u001b[0;36m1\u001b[0m\u001b[0;34m]\u001b[0m\u001b[0;34m)\u001b[0m\u001b[0;34m\u001b[0m\u001b[0;34m\u001b[0m\u001b[0m\n",
      "\u001b[0;31mKeyError\u001b[0m: '신생아의'"
     ]
    }
   ],
   "source": [
    "# 응집도추출\n",
    "\n",
    "for i in df['증상'].head(3):\n",
    "\n",
    "  # 단어를 몇 개까지 이어 붙일지 결정\n",
    "  for j in range(1,10):\n",
    "\n",
    "    # 현재 평가하려는 단어들의 리스트, 그중에서 응집도가 가장 높은 항목만 출력\n",
    "    que = []\n",
    "    for ngramwords in getNgramWord(j,i):\n",
    "      for word in ngramwords:\n",
    "        print(word_score_table[word].cohesion_forward)\n",
    "    else:\n",
    "      que.sort(key=lambda x : x[1])\n",
    "\n",
    "# 이 방법으로 평가를 하려면, 평가 하고 싶은 단어가 train data 내에 있어야 평가가 가능하다..."
   ]
  },
  {
   "cell_type": "code",
   "execution_count": null,
   "metadata": {
    "colab": {
     "base_uri": "https://localhost:8080/"
    },
    "executionInfo": {
     "elapsed": 290,
     "status": "ok",
     "timestamp": 1713750706527,
     "user": {
      "displayName": "박장훈",
      "userId": "09031392609521424808"
     },
     "user_tz": -540
    },
    "id": "pAoIYk8Q-1Db",
    "outputId": "7508739f-cedb-472b-9646-a9d83a282e64"
   },
   "outputs": [
    {
     "name": "stdout",
     "output_type": "stream",
     "text": [
      "0.4894032716126072\n"
     ]
    }
   ],
   "source": [
    "print(word_score_table['번동파출소에서'].cohesion_forward)\n",
    "# 이방법의 문제점은 여러 어절이 아닌, 한 어절 형태로만 평가가 가능하다..."
   ]
  },
  {
   "cell_type": "markdown",
   "metadata": {
    "id": "kIk8HP0UECZW"
   },
   "source": [
    "### 우선 N-gram으로 도출한 어절의 가장 마지막 단어의 형태소 분리를 해보자...\n",
    "- 추후 찾아봐야 할 사항, TF-IDF, 코사인 유사도 etc."
   ]
  },
  {
   "cell_type": "code",
   "execution_count": null,
   "metadata": {
    "colab": {
     "base_uri": "https://localhost:8080/"
    },
    "executionInfo": {
     "elapsed": 21578,
     "status": "ok",
     "timestamp": 1713750732667,
     "user": {
      "displayName": "박장훈",
      "userId": "09031392609521424808"
     },
     "user_tz": -540
    },
    "id": "jicsxO_xZ2Ua",
    "outputId": "cd99f9c0-37e8-4bb0-bf71-464775209b3f"
   },
   "outputs": [
    {
     "name": "stdout",
     "output_type": "stream",
     "text": [
      "Collecting konlpy\n",
      "  Downloading konlpy-0.6.0-py2.py3-none-any.whl (19.4 MB)\n",
      "\u001b[2K     \u001b[90m━━━━━━━━━━━━━━━━━━━━━━━━━━━━━━━━━━━━━━━━\u001b[0m \u001b[32m19.4/19.4 MB\u001b[0m \u001b[31m1.2 MB/s\u001b[0m eta \u001b[36m0:00:00\u001b[0m\n",
      "\u001b[?25hCollecting JPype1>=0.7.0 (from konlpy)\n",
      "  Downloading JPype1-1.5.0-cp310-cp310-manylinux_2_17_x86_64.manylinux2014_x86_64.whl (488 kB)\n",
      "\u001b[2K     \u001b[90m━━━━━━━━━━━━━━━━━━━━━━━━━━━━━━━━━━━━━━━━\u001b[0m \u001b[32m488.6/488.6 kB\u001b[0m \u001b[31m1.7 MB/s\u001b[0m eta \u001b[36m0:00:00\u001b[0m\n",
      "\u001b[?25hRequirement already satisfied: lxml>=4.1.0 in /usr/local/lib/python3.10/dist-packages (from konlpy) (4.9.4)\n",
      "Requirement already satisfied: numpy>=1.6 in /usr/local/lib/python3.10/dist-packages (from konlpy) (1.25.2)\n",
      "Requirement already satisfied: packaging in /usr/local/lib/python3.10/dist-packages (from JPype1>=0.7.0->konlpy) (24.0)\n",
      "Installing collected packages: JPype1, konlpy\n",
      "Successfully installed JPype1-1.5.0 konlpy-0.6.0\n"
     ]
    }
   ],
   "source": [
    "pip install konlpy"
   ]
  },
  {
   "cell_type": "markdown",
   "metadata": {
    "id": "rGJV6lAiZ_E5"
   },
   "source": [
    "### 형태소 분리 모델"
   ]
  },
  {
   "cell_type": "code",
   "execution_count": null,
   "metadata": {
    "id": "EnxX2hUzZ7_7"
   },
   "outputs": [],
   "source": [
    "import konlpy\n",
    "from konlpy.tag import Kkma, Komoran, Hannanum, Okt\n",
    "from konlpy.utils import pprint\n",
    "from konlpy.tag import Mecab\n",
    "import time\n",
    "\n",
    "hannanum = Hannanum()\n",
    "kkma = Kkma()\n",
    "komoran = Komoran()\n",
    "okt = Okt()\n",
    "# mecab = Mecab()\n",
    "\n",
    "# 형태소 분석에 사용될 문장 예시\n",
    "sentence = \"히어로들이 세상에 존재하지 않는다는 사실을 깨달은 것은 상당히 시간이 지난뒤의 일이었다.\"\n"
   ]
  },
  {
   "cell_type": "code",
   "execution_count": null,
   "metadata": {
    "id": "RUC61j4KEHXB"
   },
   "outputs": [],
   "source": [
    "# N-gram 된 문장에서, 가장 마지막 어구의 형태소를 분리하여 명사형태로 만들기\n",
    "# ex1. 히어로들이 세상에 >> 히어로들이 세상\n",
    "# ex2. 아기들의 복부가 팽창합니다 >> 아기들의 복부가 팽창\n",
    "# 예시 형태로 변경하는 알고리즘을 구성해보자.\n",
    "\n",
    "# hannanum\n",
    "\n",
    "tmp1 = []\n",
    "a = time.time()\n",
    "\n",
    "for i in df['증상'].head(3):\n",
    "\n",
    "  # 단어를 몇 개까지 이어 붙일지 결정\n",
    "  for j in range(1,10):\n",
    "\n",
    "    for k in range(len(getNgramWord(j,i))):\n",
    "      # 정상 출력되는지 확인용\n",
    "      # print(getNgramWord(j,i)[k], hannanum.nouns(str(getNgramWord(j,i)[k][-1])))\n",
    "\n",
    "      change_word = hannanum.nouns(str(getNgramWord(j,i)[k][-1]))\n",
    "\n",
    "\n",
    "      tmp2 = getNgramWord(j,i)[k][:j - 1] + change_word\n",
    "      print(getNgramWord(j,i)[k])\n",
    "      print(tmp2)\n",
    "      print()\n",
    "b = time.time()\n",
    "\n",
    "print(\"총 소요 시간 : \",b-a,\"초\")\n",
    "# 총 소요 시간 :  3.1711976528167725 초\n",
    "\n",
    "# hannanum은 정교함이 살짝 떨어지는 것 같다."
   ]
  },
  {
   "cell_type": "code",
   "execution_count": null,
   "metadata": {
    "id": "9zfoLpxieOka"
   },
   "outputs": [],
   "source": [
    "# kkma\n",
    "\n",
    "tmp1 = []\n",
    "a = time.time()\n",
    "for i in df['증상'].head(3):\n",
    "\n",
    "  # 단어를 몇 개까지 이어 붙일지 결정\n",
    "  for j in range(1,10):\n",
    "\n",
    "    for k in range(len(getNgramWord(j,i))):\n",
    "      # 정상 출력되는지 확인용\n",
    "      # print(getNgramWord(j,i)[k], hannanum.nouns(str(getNgramWord(j,i)[k][-1])))\n",
    "\n",
    "      change_word = kkma.nouns(str(getNgramWord(j,i)[k][-1]))\n",
    "\n",
    "\n",
    "      tmp2 = getNgramWord(j,i)[k][:j - 1] + change_word\n",
    "      print(getNgramWord(j,i)[k])\n",
    "      print(tmp2)\n",
    "      print()\n",
    "b = time.time()\n",
    "print(\"총 소요 시간 : \",b-a,\"초\")\n",
    "# 총 소요 시간 :  17.37988829612732 초\n",
    "\n",
    "# kkma는 결과물이 마음에 들게 나오지 않는것 같다. 신뢰도를 높이기 위해 다양한 형태의 데이터를 제공하는 듯"
   ]
  },
  {
   "cell_type": "code",
   "execution_count": null,
   "metadata": {
    "id": "Jxf2HXFJexae"
   },
   "outputs": [],
   "source": [
    "# komoran\n",
    "\n",
    "tmp1 = []\n",
    "a = time.time()\n",
    "for i in df['증상'].head(3):\n",
    "\n",
    "  # 단어를 몇 개까지 이어 붙일지 결정\n",
    "  for j in range(1,10):\n",
    "\n",
    "    for k in range(len(getNgramWord(j,i))):\n",
    "      # 정상 출력되는지 확인용\n",
    "      # print(getNgramWord(j,i)[k], hannanum.nouns(str(getNgramWord(j,i)[k][-1])))\n",
    "\n",
    "      change_word = komoran.nouns(str(getNgramWord(j,i)[k][-1]))\n",
    "\n",
    "\n",
    "      tmp2 = getNgramWord(j,i)[k][:j - 1] + change_word\n",
    "      print(getNgramWord(j,i)[k])\n",
    "      print(tmp2)\n",
    "      print()\n",
    "b = time.time()\n",
    "\n",
    "print(\"총 소요 시간 : \",b-a,\"초\")\n",
    "# 총 소요 시간 :  2.2232820987701416 초\n",
    "\n",
    "# komoran도 결과물이 마음에 들게 나오지 않는것 같다. 지워지는 데이터가 너무 많다..."
   ]
  },
  {
   "cell_type": "code",
   "execution_count": null,
   "metadata": {
    "id": "ZhDy7RoXfavx"
   },
   "outputs": [],
   "source": [
    "# okt\n",
    "\n",
    "tmp1 = []\n",
    "\n",
    "a = time.time()\n",
    "\n",
    "for i in df['증상'].head(1):\n",
    "\n",
    "  # 단어를 몇 개까지 이어 붙일지 결정\n",
    "  for j in range(1,2):\n",
    "\n",
    "    for k in range(len(getNgramWord(j,i))):\n",
    "      # 정상 출력되는지 확인용\n",
    "      # print(getNgramWord(j,i)[k], hannanum.nouns(str(getNgramWord(j,i)[k][-1])))\n",
    "\n",
    "      change_word = okt.nouns(str(getNgramWord(j,i)[k][-1]))\n",
    "\n",
    "\n",
    "      tmp2 = getNgramWord(j,i)[k][:j - 1] + change_word\n",
    "      print(getNgramWord(j,i)[k])\n",
    "      print(tmp2)\n",
    "      print()\n",
    "\n",
    "b = time.time()\n",
    "\n",
    "print(\"총 소요 시간 : \",b-a,\"초\")\n",
    "# 총 소요 시간 :  1.711902379989624 초\n",
    "\n",
    "# 가장 마지막에 거대결장증 처럼 나눠서 봄직한 단어가 나온다면 나눠 버리는 점만 마음에 들지 않는다.\n",
    "# 전반적인 결과는 이게 가장 잘 나오는 것 같다.\n",
    "\n",
    "# 속도도 가장 빠르다!!"
   ]
  },
  {
   "cell_type": "code",
   "execution_count": null,
   "metadata": {
    "colab": {
     "base_uri": "https://localhost:8080/"
    },
    "executionInfo": {
     "elapsed": 302,
     "status": "ok",
     "timestamp": 1713751087398,
     "user": {
      "displayName": "박장훈",
      "userId": "09031392609521424808"
     },
     "user_tz": -540
    },
    "id": "SJ0yi34EgcB5",
    "outputId": "801ad7de-e8f9-431c-96a6-263d3010057e"
   },
   "outputs": [
    {
     "name": "stdout",
     "output_type": "stream",
     "text": [
      "['신생아', '출생', '후', '내', '녹색', '태변', '배설', '아기', '항문', '정상', '발달', '태변', '배설', '것', '선천성', '거대', '결장', '증', '의심', '수', '첫', '단서', '신생아', '시기', '이후', '평소', '배', '자주', '관장', '대변', '만성', '변비', '지속', '경우', '이', '병', '의심', '수', '신생아', '아기', '담즙', '구토', '팽창', '복부', '영양실조', '변비', '장', '등', '증상', '수', '소아', '청소년기', '치료', '만성', '변비', '진단', '기도']\n",
      "['간', '담즙', '통해', '소장', '분비', '소화', '데', '사용', '담즙', '분비', '못', '간', '정체', '간', '손상', '간경변증', '진행', '담도폐쇄증', '가장', '특징', '증상', '달', '안', '아기', '황달', '회색', '빛', '대변', '신생아', '황달', '아주', '증상', '모유', '수유', '해도', '때문', '자칫', '위험', '신호', '치기', '따라서', '기저귀', '아기', '변', '색깔', '확인', '것', '아기', '황달', '대변', '색깔', '황금색', '회색', '흰색', '점차', '즉시', '소아과', '소아', '외과', '전문의', '담도폐쇄', '여부', '확인']\n",
      "['조기', '간암', '증상', '피로', '감', '전신', '쇠약', '감', '소화', '불량', '상', '복부', '체중', '감소', '등', '꼽', '수', '증상', '간암', '암', '좀', '더', '진행', '간', '기능', '복수', '체중', '감소', '황달']\n"
     ]
    }
   ],
   "source": [
    "for i in df['증상'].head(3):\n",
    "    print(okt.nouns(i))\n"
   ]
  }
 ],
 "metadata": {
  "colab": {
   "provenance": []
  },
  "kernelspec": {
   "display_name": "Python 3",
   "name": "python3"
  },
  "language_info": {
   "name": "python"
  }
 },
 "nbformat": 4,
 "nbformat_minor": 0
}
