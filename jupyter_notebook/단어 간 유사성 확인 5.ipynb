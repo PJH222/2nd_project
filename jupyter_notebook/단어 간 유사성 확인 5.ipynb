{
 "cells": [
  {
   "cell_type": "code",
   "execution_count": 1,
   "metadata": {},
   "outputs": [
    {
     "name": "stdout",
     "output_type": "stream",
     "text": [
      "Collecting soynlp\n",
      "  Downloading soynlp-0.0.493-py3-none-any.whl.metadata (24 kB)\n",
      "Requirement already satisfied: numpy>=1.12.1 in c:\\users\\asd\\2nd_project\\venv\\lib\\site-packages (from soynlp) (1.26.4)\n",
      "Requirement already satisfied: psutil>=5.0.1 in c:\\users\\asd\\2nd_project\\venv\\lib\\site-packages (from soynlp) (5.9.8)\n",
      "Requirement already satisfied: scipy>=1.1.0 in c:\\users\\asd\\2nd_project\\venv\\lib\\site-packages (from soynlp) (1.13.0)\n",
      "Requirement already satisfied: scikit-learn>=0.20.0 in c:\\users\\asd\\2nd_project\\venv\\lib\\site-packages (from soynlp) (1.4.2)\n",
      "Requirement already satisfied: joblib>=1.2.0 in c:\\users\\asd\\2nd_project\\venv\\lib\\site-packages (from scikit-learn>=0.20.0->soynlp) (1.4.0)\n",
      "Requirement already satisfied: threadpoolctl>=2.0.0 in c:\\users\\asd\\2nd_project\\venv\\lib\\site-packages (from scikit-learn>=0.20.0->soynlp) (3.4.0)\n",
      "Downloading soynlp-0.0.493-py3-none-any.whl (416 kB)\n",
      "   ---------------------------------------- 0.0/416.8 kB ? eta -:--:--\n",
      "   ------------- -------------------------- 143.4/416.8 kB 4.3 MB/s eta 0:00:01\n",
      "   ---------------------------------------- 416.8/416.8 kB 6.6 MB/s eta 0:00:00\n",
      "Installing collected packages: soynlp\n",
      "Successfully installed soynlp-0.0.493\n",
      "Note: you may need to restart the kernel to use updated packages.\n"
     ]
    }
   ],
   "source": [
    "pip install soynlp"
   ]
  },
  {
   "cell_type": "code",
   "execution_count": null,
   "metadata": {},
   "outputs": [],
   "source": [
    "from soynlp.utils import DoublespaceLineCorpus\n",
    "from soynlp.noun import LRNounExtractor_v2\n",
    "\n",
    "corpus_path = '2016-10-20-news'\n",
    "sents = DoublespaceLineCorpus(corpus_path, iter_sent=True)\n",
    "\n",
    "noun_extractor = LRNounExtractor_v2(verbose=True)\n",
    "nouns = noun_extractor.train_extract(sents)"
   ]
  }
 ],
 "metadata": {
  "kernelspec": {
   "display_name": "venv",
   "language": "python",
   "name": "python3"
  },
  "language_info": {
   "codemirror_mode": {
    "name": "ipython",
    "version": 3
   },
   "file_extension": ".py",
   "mimetype": "text/x-python",
   "name": "python",
   "nbconvert_exporter": "python",
   "pygments_lexer": "ipython3",
   "version": "3.11.5"
  }
 },
 "nbformat": 4,
 "nbformat_minor": 2
}
